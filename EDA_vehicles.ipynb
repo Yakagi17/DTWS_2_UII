{
  "nbformat": 4,
  "nbformat_minor": 0,
  "metadata": {
    "colab": {
      "name": "EDA-vehicles.ipynb",
      "provenance": [],
      "toc_visible": true,
      "include_colab_link": true
    },
    "kernelspec": {
      "name": "python3",
      "display_name": "Python 3"
    }
  },
  "cells": [
    {
      "cell_type": "markdown",
      "metadata": {
        "id": "view-in-github",
        "colab_type": "text"
      },
      "source": [
        "<a href=\"https://colab.research.google.com/github/Yakagi17/DTWS_2_UII/blob/master/EDA_vehicles.ipynb\" target=\"_parent\"><img src=\"https://colab.research.google.com/assets/colab-badge.svg\" alt=\"Open In Colab\"/></a>"
      ]
    },
    {
      "cell_type": "markdown",
      "metadata": {
        "id": "6sWatMQ_BmW9",
        "colab_type": "text"
      },
      "source": [
        "![picture](https://drive.google.com/uc?id=1-xuFvbmPE2Y8fTaRaBblI4ghFmRfG7Bs)"
      ]
    },
    {
      "cell_type": "markdown",
      "metadata": {
        "id": "0OEVx1AeJQXM",
        "colab_type": "text"
      },
      "source": [
        "#Workshop Data Exploration and Visualization\n",
        "##Sesi 1: Data Exploration\n",
        "##lizda.iswari@uii.ac.id"
      ]
    },
    {
      "cell_type": "markdown",
      "metadata": {
        "id": "lNoHxKMsYNpY",
        "colab_type": "text"
      },
      "source": [
        "![picture](https://drive.google.com/uc?id=1OjR20vnoB-fSJLGST9rBspVaubZwt2Lp)"
      ]
    },
    {
      "cell_type": "markdown",
      "metadata": {
        "id": "eGpGWhn1-j0I",
        "colab_type": "text"
      },
      "source": [
        "#Apakah Exploratory Data Analysis (EDA)?\n",
        "\n",
        "Jika ada teman Anda mengajak nonton sebuah film ke bioskop, film yang belum pernah Anda dengar sebelumnya!\n",
        "\n",
        "Kira-kira pertanyaan apakah yang terpikir oleh Anda?\n",
        "\n",
        "Mungkin Anda akan bertanya:\n",
        "*   Cerita atau genrenya tentang apa?\n",
        "*   Siapa pemainnya?\n",
        "*   Apakah ada trailernya?\n",
        "*   Mungkin Anda juga akan memeriksa rating dan review film tersebut.\n",
        "\n",
        "Secara singkat, EDA adalah...\n",
        "\n",
        "“*Exploratory Data Analysis refers to the critical process of performing initial investigations on data so as to discover patterns, to spot anomalies, to test hypothesis and to check assumptions with the help of summary statistics and graphical representations*”[1]"
      ]
    },
    {
      "cell_type": "markdown",
      "metadata": {
        "id": "pHcZylc-AnU1",
        "colab_type": "text"
      },
      "source": [
        "#Dimanakah posisi EDA dalam Data Science?\n",
        "\n",
        "![picture](https://drive.google.com/uc?id=14O5GQpryscKD5wvycnlzfvNI_4P0D1fZ)"
      ]
    },
    {
      "cell_type": "markdown",
      "metadata": {
        "id": "QgJVQ_qN79Vt",
        "colab_type": "text"
      },
      "source": [
        "## Studi Kasus: Vehicle Fuel Economy Data Set\n",
        "\n",
        "Sumber data: http://bit.ly/ddl-cars"
      ]
    },
    {
      "cell_type": "markdown",
      "metadata": {
        "id": "7uRC3TPDJlLY",
        "colab_type": "text"
      },
      "source": [
        "Dalam workshop kali ini, kita akan mengeksplorasi data ekonomi bahan bakar kendaraan (*vehicle fuel economy*). \n",
        "\n",
        "Data bersumber dari hasil pengujian kendaraan yang dilakukan di *National Vehicle Agency* dan Laboratorium Emisi Bahan Bakar, Badan Perlindungan Lingkungan (*Environmental Protection Agency*) Amerika Serikat di Ann Arbor, Michigan. Adapun kendaraan yang dilibatkan merupakan kendaraan dari produsen yang berada dalam pengawasan EPA.\n",
        "\n",
        "Ukuran data cukup besar (16MB) sehingga didistribusikan dalam format zipfile. Langkah pertama, kita harus mengunduh data dan untuk itu dibutuhkan sejumlah software library, seperti os, zipfile dan request."
      ]
    },
    {
      "cell_type": "code",
      "metadata": {
        "id": "4L8r9kqBWBwQ",
        "colab_type": "code",
        "colab": {}
      },
      "source": [
        "import os\n",
        "import zipfile\n",
        "import requests\n"
      ],
      "execution_count": 0,
      "outputs": []
    },
    {
      "cell_type": "markdown",
      "metadata": {
        "id": "WkWm7X4E0L3E",
        "colab_type": "text"
      },
      "source": [
        "Unduh data dan simpan ke komputer masing-masing."
      ]
    },
    {
      "cell_type": "code",
      "metadata": {
        "id": "pW-cakHNWQEI",
        "colab_type": "code",
        "colab": {}
      },
      "source": [
        "def download_data(url, name, path='data'):\n",
        "    if not os.path.exists(path):\n",
        "        os.mkdir(path)\n",
        "    response = requests.get(url)\n",
        "    with open(os.path.join(path, name), 'wb') as f:\n",
        "        f.write(response.content)\n",
        "    z = zipfile.ZipFile(os.path.join(path, 'vehicles.zip'))\n",
        "    z.extractall(path)\n",
        "VEHICLES = 'http://bit.ly/ddl-cars'\n",
        "download_data(VEHICLES, 'vehicles.zip')"
      ],
      "execution_count": 0,
      "outputs": []
    },
    {
      "cell_type": "markdown",
      "metadata": {
        "id": "sSVBlJgg0Zxu",
        "colab_type": "text"
      },
      "source": [
        "Selanjutnya, kita akan memanggil dan mengolah data tersebut menggunakan software **Panda**. \n",
        "\n",
        "Panda adalah sebuah pustaka perangkat lunak yang ditulis untuk bahasa pemrograman Python. Umumnya Panda digunakan untuk memanipulasi dan analisis data, terutama data dalam tabel numerik dan data time series (deret waktu)."
      ]
    },
    {
      "cell_type": "code",
      "metadata": {
        "id": "w39WmmS0xeYv",
        "colab_type": "code",
        "colab": {}
      },
      "source": [
        "import pandas as pd\n",
        "path = 'data'\n",
        "vehicles = pd.read_csv(os.path.join(path, 'vehicles.csv'))"
      ],
      "execution_count": 0,
      "outputs": []
    },
    {
      "cell_type": "markdown",
      "metadata": {
        "id": "19t9KNOd0nVj",
        "colab_type": "text"
      },
      "source": [
        "\n",
        "##Data Preview\n",
        "Mari kita periksa struktur data vehicle tersebut. Berapakah jumlah kolom dan entries yang dimiliki oleh data tersebut?\n",
        "\n",
        "Kolom berasosiasi dengan **atribute** atau karakteristik data, sedangkan entries disebut juga sebagai **obyek** data dan divisualisasikan sebagai baris dalam tabel."
      ]
    },
    {
      "cell_type": "code",
      "metadata": {
        "id": "Bf-GzrNGx8pg",
        "colab_type": "code",
        "colab": {}
      },
      "source": [
        "vehicles.info()"
      ],
      "execution_count": 0,
      "outputs": []
    },
    {
      "cell_type": "markdown",
      "metadata": {
        "id": "lW7yBtnna3yz",
        "colab_type": "text"
      },
      "source": [
        "Sekarang mari kita lihat isi data *vehicles* untuk 5 obyek teratas."
      ]
    },
    {
      "cell_type": "code",
      "metadata": {
        "id": "IhBSwcE2a8cy",
        "colab_type": "code",
        "colab": {}
      },
      "source": [
        "vehicles.head()"
      ],
      "execution_count": 0,
      "outputs": []
    },
    {
      "cell_type": "markdown",
      "metadata": {
        "id": "oSFhUVmnC5Be",
        "colab_type": "text"
      },
      "source": [
        "#Identifikasi Data\n",
        "\n",
        "Terdapat sejumlah informasi umum yang terdapat di dalam data set tersebut:\n",
        "\n",
        "\n",
        "*   Vehicle attributes information\n",
        "*   Vehicle manufacturer information\n",
        "*   Engine information\n",
        "*   Fuel information (such as fuel efficiency, fuel type, and fuel cost)\n",
        "*   Transmission information\n",
        "*   Drive axle information\n"
      ]
    },
    {
      "cell_type": "markdown",
      "metadata": {
        "id": "h-26PhsduI9r",
        "colab_type": "text"
      },
      "source": [
        "#Mari kita mulai EDA!"
      ]
    },
    {
      "cell_type": "markdown",
      "metadata": {
        "id": "vZ-WSm1H0lwQ",
        "colab_type": "text"
      },
      "source": [
        "## Langkah 1 - Data Cleaning\n",
        "Di tahap ini kita akan pre-processing data yang meliputi:\n",
        "\n",
        "\n",
        "*   Memilih attributes yang akan diolah.\n",
        "*   Memilih obyek yang akan diolah, yaitu kendaraan keluaran sebelum tahun 2017 akan dihapus.\n",
        "*   Menghapus data yang terduplikat.\n",
        "*   Mengurutkan data berdasarkan attribute *make, model*, dan *year*."
      ]
    },
    {
      "cell_type": "code",
      "metadata": {
        "id": "CX_LLUohxodL",
        "colab_type": "code",
        "colab": {}
      },
      "source": [
        "select_columns = ['make', 'model', 'year', 'displ', 'cylinders', 'trany', 'drive', 'VClass','fuelType','barrels08', 'city08', 'highway08', 'comb08', 'co2TailpipeGpm', 'fuelCost08']\n",
        "vehicles = vehicles[select_columns][vehicles.year <= 2016].drop_duplicates().dropna()\n",
        "vehicles = vehicles.sort_values(['make', 'model', 'year'])"
      ],
      "execution_count": 0,
      "outputs": []
    },
    {
      "cell_type": "markdown",
      "metadata": {
        "id": "2AWX_8yQbTB1",
        "colab_type": "text"
      },
      "source": [
        "Sekarang kita hanya akan bekerja dengan 15 attributes data. "
      ]
    },
    {
      "cell_type": "code",
      "metadata": {
        "id": "bHyUGCN0Jx3P",
        "colab_type": "code",
        "colab": {}
      },
      "source": [
        "vehicles.info()"
      ],
      "execution_count": 0,
      "outputs": []
    },
    {
      "cell_type": "markdown",
      "metadata": {
        "id": "PqKHoTIJJRF_",
        "colab_type": "text"
      },
      "source": [
        "Mengubah nama kolom menjadi nama yang lebih intuitif."
      ]
    },
    {
      "cell_type": "code",
      "metadata": {
        "id": "m86d17Wgx62R",
        "colab_type": "code",
        "colab": {}
      },
      "source": [
        "vehicles.columns = ['Make','Model','Year','Engine Displacement','Cylinders',\n",
        "                    'Transmission','Drivetrain','Vehicle Class','Fuel Type',\n",
        "                    'Fuel Barrels/Year','City MPG','Highway MPG','Combined MPG',\n",
        "                    'CO2 Emission Grams/Mile','Fuel Cost/Year']"
      ],
      "execution_count": 0,
      "outputs": []
    },
    {
      "cell_type": "code",
      "metadata": {
        "id": "yPU29OFOJ4Q3",
        "colab_type": "code",
        "colab": {}
      },
      "source": [
        "vehicles.info()"
      ],
      "execution_count": 0,
      "outputs": []
    },
    {
      "cell_type": "markdown",
      "metadata": {
        "id": "qA070vP2JlWe",
        "colab_type": "text"
      },
      "source": [
        "##Langkah 2 - Data Categorization\n",
        "\n",
        "Mari kita periksa sebaran nilai data untuk tiap kolom."
      ]
    },
    {
      "cell_type": "code",
      "metadata": {
        "id": "78sRKM33Jopk",
        "colab_type": "code",
        "colab": {}
      },
      "source": [
        "def unique_col_values(df):\n",
        "    for column in df:\n",
        "        print(\"{} | {} | {}\".format(\n",
        "            df[column].name, len(df[column].unique()), df[column].dtype\n",
        "        ))\n",
        "unique_col_values(vehicles)"
      ],
      "execution_count": 0,
      "outputs": []
    },
    {
      "cell_type": "markdown",
      "metadata": {
        "id": "FAwvD7PDWShP",
        "colab_type": "text"
      },
      "source": [
        "Berdasarkan output di atas, dapat dilihat sejumlah kolom bertipe numerik (int64 dan float64) dan beberapa diantara bertipe object. Tipe object menyatakan bahwa kolom tersebut memiliki nilai kategori di dalamnya.\n",
        "\n",
        "Untuk saat ini, mari kita fokus terhadap 5 kolom yang bertipe category/object:\n",
        "\n",
        "1.   Make: 126 unique values\n",
        "2.   Model: 3,491 unique values\n",
        "3.   Transmission: 43 unique values\n",
        "4.   Drivetrain: 7 unique values\n",
        "5.   Vehicle Class: 34 unique values"
      ]
    },
    {
      "cell_type": "markdown",
      "metadata": {
        "id": "nOQYkFiXq_zZ",
        "colab_type": "text"
      },
      "source": [
        "##a. Aggregasi Data Bertipe Category\n",
        "\n",
        "Untuk memperoleh summary data yang bertipe category, kita akan menerapkan konsep data aggregation. Menurut penelitian, umumnya manusia hanya mampu mengelola 1-7 perbedaan di dalam short-term working memory-nya[2]. Padahal kalau kita lihat, 4 kolom di atas memiliki jumlah variasi kategori yang sangat besar.\n",
        "\n",
        "Untuk itu kita akan mengagregasi/menggabungkan sejumlah kategori ke level yang lebih umum (higher level categories). Misal, data kendaraan bisa dikelompokkan berdasarkan merk, model, maupun tahun pembuatan.\n",
        "\n",
        "Umumnya, agregasi data ke higher-level categories ini dilakukan berdasarkan kombinasi sejumlah kategori yang ada, maupun didasarkan atas pengetahuan yang telah dimiliki sebelumnya."
      ]
    },
    {
      "cell_type": "markdown",
      "metadata": {
        "id": "d_l4xrUCVJRe",
        "colab_type": "text"
      },
      "source": [
        "###Aggregating Kolom Transmission\n",
        "\n",
        "Kolom Transmission memiliki 43 jenis kategori. Seperti kita ketahui, umumnya dikenal 2 jenis transmisi mesin, yaitu **Automatic** or **Manual**.\n",
        "\n",
        "![picture](https://drive.google.com/uc?id=11B9zv600jboxXXE1RjgZDUHD40AWwt3s)"
      ]
    },
    {
      "cell_type": "code",
      "metadata": {
        "id": "Hot1MWb67-VP",
        "colab_type": "code",
        "colab": {}
      },
      "source": [
        "AUTOMATIC = \"Automatic\"\n",
        "MANUAL = \"Manual\"\n",
        "vehicles.loc[vehicles['Transmission'].str.startswith('A'),\n",
        "             'Transmission Type'] = AUTOMATIC\n",
        "vehicles.loc[vehicles['Transmission'].str.startswith('M'),\n",
        "             'Transmission Type'] = MANUAL"
      ],
      "execution_count": 0,
      "outputs": []
    },
    {
      "cell_type": "code",
      "metadata": {
        "id": "RdWsGcbOcmfT",
        "colab_type": "code",
        "colab": {}
      },
      "source": [
        "vehicles['Transmission Type'].unique()"
      ],
      "execution_count": 0,
      "outputs": []
    },
    {
      "cell_type": "markdown",
      "metadata": {
        "id": "BafUrkiF82cJ",
        "colab_type": "text"
      },
      "source": [
        "###Aggregating Kolom Vehicle Class\n",
        "\n",
        "Untuk Vehicle Class terdapat 34 jenis kategori, di sini akan kita atur agar kolom tersebut hanya memiliki 8 nilai saja.\n",
        "\n",
        "![picture](https://drive.google.com/uc?id=19bSG21zgmT9SWWgheUEhZoZC2O7vo7ur)"
      ]
    },
    {
      "cell_type": "code",
      "metadata": {
        "id": "ZzRtGy1v81ej",
        "colab_type": "code",
        "colab": {}
      },
      "source": [
        "small = ['Compact Cars','Subcompact Cars','Two Seaters','Minicompact Cars']\n",
        "midsize = ['Midsize Cars']\n",
        "large = ['Large Cars']\n",
        "vehicles.loc[vehicles['Vehicle Class'].isin(small), \n",
        "             'Vehicle Category'] = 'Small Cars'\n",
        "vehicles.loc[vehicles['Vehicle Class'].isin(midsize), \n",
        "             'Vehicle Category'] = 'Midsize Cars'\n",
        "vehicles.loc[vehicles['Vehicle Class'].isin(large), \n",
        "             'Vehicle Category'] = 'Large Cars'\n",
        "vehicles.loc[vehicles['Vehicle Class'].str.contains('Station'), \n",
        "             'Vehicle Category'] = 'Station Wagons'\n",
        "vehicles.loc[vehicles['Vehicle Class'].str.contains('Truck'), \n",
        "             'Vehicle Category'] = 'Pickup Trucks'\n",
        "vehicles.loc[vehicles['Vehicle Class'].str.contains('Special Purpose'), \n",
        "             'Vehicle Category'] = 'Special Purpose'\n",
        "vehicles.loc[vehicles['Vehicle Class'].str.contains('Sport Utility'), \n",
        "             'Vehicle Category'] = 'Sport Utility'\n",
        "vehicles.loc[(vehicles['Vehicle Class'].str.lower().str.contains('van')),\n",
        "             'Vehicle Category'] = 'Vans & Minivans'"
      ],
      "execution_count": 0,
      "outputs": []
    },
    {
      "cell_type": "code",
      "metadata": {
        "id": "wL_IRbAHr9u7",
        "colab_type": "code",
        "colab": {}
      },
      "source": [
        "vehicles['Vehicle Category'].unique()"
      ],
      "execution_count": 0,
      "outputs": []
    },
    {
      "cell_type": "markdown",
      "metadata": {
        "id": "kxT2xn-NBi0k",
        "colab_type": "text"
      },
      "source": [
        "###Aggregating Kolom Make and Model\n",
        "\n",
        "Selanjutnya, mari kita lihat kolom Make dan Model yang terdiri atas 126 dan 3,491 jenis nilai. Kita akan membuat kolom tambahan yang berisi informasi dari kedua kolom tersebut. Dalam hal ini, kita akan menggabungkan nilai Make dan kata pertama dari kolom Model.\n",
        "\n",
        "Sebagai contoh: nilai semua kendaraan jenis Chevrolet Suburban C1500 2WD dan Chevrolet Suburban K1500 4WD akan kita kategorikan lebih sederhana (higher-level categories) menjadi Chevrolet Suburbans."
      ]
    },
    {
      "cell_type": "code",
      "metadata": {
        "id": "pLEyX2rgCGjO",
        "colab_type": "code",
        "colab": {}
      },
      "source": [
        "vehicles['Model Type'] = (vehicles['Make'] + \" \" +\n",
        "                          vehicles['Model'].str.split().str.get(0))"
      ],
      "execution_count": 0,
      "outputs": []
    },
    {
      "cell_type": "code",
      "metadata": {
        "id": "KnY37nuapt7v",
        "colab_type": "code",
        "outputId": "204569c5-7dbe-42a4-b13d-0a77e354b274",
        "colab": {
          "base_uri": "https://localhost:8080/",
          "height": 51
        }
      },
      "source": [
        "vehicles['Model Type'].unique()"
      ],
      "execution_count": 0,
      "outputs": [
        {
          "output_type": "execute_result",
          "data": {
            "text/plain": [
              "array(['AM General DJ', 'AM General FJ8c', 'AM General Post', ...,\n",
              "       'Yugo GV/GVX', 'Yugo Gy/yugo', 'smart fortwo'], dtype=object)"
            ]
          },
          "metadata": {
            "tags": []
          },
          "execution_count": 18
        }
      ]
    },
    {
      "cell_type": "code",
      "metadata": {
        "id": "xkPUzRaGcysp",
        "colab_type": "code",
        "colab": {}
      },
      "source": [
        "unique_col_values(vehicles)"
      ],
      "execution_count": 0,
      "outputs": []
    },
    {
      "cell_type": "markdown",
      "metadata": {
        "id": "59idy5c9zpBn",
        "colab_type": "text"
      },
      "source": [
        "##b. Aggregasi Data Bertipe Numerik "
      ]
    },
    {
      "cell_type": "markdown",
      "metadata": {
        "id": "UZkJGn2czy9E",
        "colab_type": "text"
      },
      "source": [
        "Untuk data yang bertipe numerik dapat dilakukan menggunakan **teknik binning**, yaitu suatu metode membagi data ke dalam sejumlah kelompok berdasarkan threshold atau distribusi tertentu. Terdapat sejumlah cara untuk melakukan binning, salah satunya adalah **teknik kuartil**. \n",
        "\n",
        "Untuk teknik kuartil, data akan dibagi dalam rentang distribusi nilai yang sama. Misal, data akan dibagi dalam 5 kelompok sehingga akan membantu kita dalam menetapkan jenis kategori tersebut menjadi kelompok ekstrem bawah, moderate bawah, tengah, moderate atas, dan ekstrem atas (lihat gambar).\n",
        "\n",
        "![picture](https://drive.google.com/uc?id=1A11a07Wqs4OFLBMrkgxcitiEFiZqhG_q)\n",
        "\n",
        "Dalam workshop ini, kita ambil 4 kolom bertipe numerik untuk di-binning ke dalam 5 kategori data:\n",
        "\n",
        "1.   Engine Displacement --> Engine Size\n",
        "2.   Combined MPG --> Fuel Efficiency\n",
        "3.   CO2 Emission Grams/Mile --> Emission\n",
        "4.   Fuel Cost/Year --> Fuel Cost"
      ]
    },
    {
      "cell_type": "code",
      "metadata": {
        "id": "ikl2carFYtuK",
        "colab_type": "code",
        "colab": {}
      },
      "source": [
        "engine_categories = ['Very Small Engine', 'Small Engine','Moderate Engine', 'Large Engine', 'Very Large Engine']\n",
        "vehicles['Engine Size'] = pd.qcut(vehicles['Engine Displacement'],\n",
        "                                  5, engine_categories)"
      ],
      "execution_count": 0,
      "outputs": []
    },
    {
      "cell_type": "code",
      "metadata": {
        "id": "gDzbWjus0XMB",
        "colab_type": "code",
        "colab": {}
      },
      "source": [
        "efficiency_categories = ['Very Low Efficiency', 'Low Efficiency',\n",
        "                         'Moderate Efficiency','High Efficiency',\n",
        "                         'Very High Efficiency']\n",
        "vehicles['Fuel Efficiency'] = pd.qcut(vehicles['Combined MPG'],\n",
        "                                      5, efficiency_categories)"
      ],
      "execution_count": 0,
      "outputs": []
    },
    {
      "cell_type": "code",
      "metadata": {
        "id": "NWYQ6MFZYzLM",
        "colab_type": "code",
        "colab": {}
      },
      "source": [
        "emission_categories = ['Very Low Emissions', 'Low Emissions',\n",
        "                        'Moderate Emissions','High Emissions',\n",
        "                        'Very High Emissions']\n",
        "vehicles['Emissions'] = pd.qcut(vehicles['CO2 Emission Grams/Mile'],\n",
        "                                 5, emission_categories)"
      ],
      "execution_count": 0,
      "outputs": []
    },
    {
      "cell_type": "code",
      "metadata": {
        "id": "cx3ouTnGY3B4",
        "colab_type": "code",
        "colab": {}
      },
      "source": [
        "fuelcost_categories = ['Very Low Fuel Cost', 'Low Fuel Cost',\n",
        "                       'Moderate Fuel Cost','High Fuel Cost',\n",
        "                       'Very High Fuel Cost']\n",
        "vehicles['Fuel Cost'] = pd.qcut(vehicles['Fuel Cost/Year'],\n",
        "                                5, fuelcost_categories)"
      ],
      "execution_count": 0,
      "outputs": []
    },
    {
      "cell_type": "code",
      "metadata": {
        "id": "9PSaPceo0bxV",
        "colab_type": "code",
        "colab": {}
      },
      "source": [
        "vehicles.info()"
      ],
      "execution_count": 0,
      "outputs": []
    },
    {
      "cell_type": "markdown",
      "metadata": {
        "id": "Z1fD3beAc6FT",
        "colab_type": "text"
      },
      "source": [
        "##c. Aggregasi Data Berdasar Hasil Clustering\n",
        "\n",
        "**Clustering** merupakan salah satu teknik yang banyak diterapkan dalam tahap pre-processing untuk menghasilkan informasi profil tambahan bagi data. Clustering utamanya digunakan pada data yang belum memiliki label/kategori tertentu (unsupervised learning).\n",
        "\n",
        "Terdapat sejumlah kelebihan clustering, meliputi:\n",
        "*   untuk mengelompokkan data yang memiliki kesamaan karakteristik pada berbagai atribut.\n",
        "* untuk membuat kategori baru secara otomatis, bandingkan jika Anda harus mengidentifikasi satu per satu atribu dan mengidentifikasi pola yang terdapat di dalam data.\n",
        "* dapat menghasilkan kelompok data yang mungkin tidak terpikir sebelumnya oleh manusia. \n",
        "\n",
        "Untuk menjalankan clustering, pertama kita tentukan terlebih dahulu atribut/kolom apa saja yang akan dilibatkan. Umumnya clustering bekerja pada data yang bertipe numerik, hal ini berkaitan dengan perhitungan jarak antar data untuk menentukan similaritas antar data."
      ]
    },
    {
      "cell_type": "code",
      "metadata": {
        "id": "wepUEnTSlpXB",
        "colab_type": "code",
        "colab": {}
      },
      "source": [
        "cluster_columns = ['Engine Displacement','Cylinders','Fuel Barrels/Year', 'City MPG','Highway MPG','Combined MPG', \n",
        "                   'CO2 Emission Grams/Mile', 'Fuel Cost/Year']"
      ],
      "execution_count": 0,
      "outputs": []
    },
    {
      "cell_type": "markdown",
      "metadata": {
        "id": "VZCT6tQAnqSJ",
        "colab_type": "text"
      },
      "source": [
        "Dalam proses clustering sangat penting diketahui bahwa data harus memiliki skala/rentang data yang sama. Hal ini disebut juga sebagai normalisasi data. Terdapat sejumlah fungsi normalisasi, salah satunya adalah MaxAbsScaler dari library Scikit-Learn yang akan mengubah data ke dalam rentang nilai 0 - 1."
      ]
    },
    {
      "cell_type": "code",
      "metadata": {
        "id": "Kods6vEAn-47",
        "colab_type": "code",
        "colab": {}
      },
      "source": [
        "from sklearn import preprocessing\n",
        "scaler = preprocessing.MaxAbsScaler()\n",
        "vehicle_clusters = scaler.fit_transform(vehicles[cluster_columns])\n",
        "vehicle_clusters = pd.DataFrame(vehicle_clusters, columns=cluster_columns)"
      ],
      "execution_count": 0,
      "outputs": []
    },
    {
      "cell_type": "markdown",
      "metadata": {
        "id": "IbqseBEQY7En",
        "colab_type": "text"
      },
      "source": [
        "Selanjutnya adalah definisi fungsi untuk clustering. Di sini akan dibutuhkan 2 jenis fungsi, yaitu: \n",
        "\n",
        "*   **kmeans_cluster**: fungsi clustering yang menerapkan algoritma k-means untuk membagi data ke dalam sejumlah cluster. Hasil cluster akan disimpan ke dalam sebuah kolom yang bernama *Cluster*.\n",
        "*   **summarize_clustering**: fungsi untuk menampilkan ringkasan data, yaitu jumlah data untuk tiap cluster beserta dengan nilai rata-rata untuk tiap kolom per cluster. Nilai rata-rata ini akan sangat kita butuhkan dalam mengenali karakteristik tiap cluster."
      ]
    },
    {
      "cell_type": "code",
      "metadata": {
        "id": "y9UrOlWPY8L3",
        "colab_type": "code",
        "colab": {}
      },
      "source": [
        "from sklearn.cluster import KMeans\n",
        "def kmeans_cluster(df, n_clusters=2):\n",
        "    model = KMeans(n_clusters=n_clusters, random_state=1)\n",
        "    clusters = model.fit_predict(df)\n",
        "    cluster_results = df.copy()\n",
        "    cluster_results['Cluster'] = clusters\n",
        "    return cluster_results"
      ],
      "execution_count": 0,
      "outputs": []
    },
    {
      "cell_type": "code",
      "metadata": {
        "id": "wDwZfAg6ZFth",
        "colab_type": "code",
        "colab": {}
      },
      "source": [
        "def summarize_clustering(results):\n",
        "    cluster_size = results.groupby(['Cluster']).size().reset_index()\n",
        "    cluster_size.columns = ['Cluster', 'Count']\n",
        "    cluster_means = results.groupby(['Cluster'], as_index=False).mean()\n",
        "    cluster_summary = pd.merge(cluster_size, cluster_means, on='Cluster')\n",
        "    return cluster_summary"
      ],
      "execution_count": 0,
      "outputs": []
    },
    {
      "cell_type": "markdown",
      "metadata": {
        "id": "jQpTIXx8aysY",
        "colab_type": "text"
      },
      "source": [
        "Mari kita coba membagi data dalam 8 cluster dan lihat summary-nya."
      ]
    },
    {
      "cell_type": "code",
      "metadata": {
        "id": "1V0f3JoPbfPH",
        "colab_type": "code",
        "colab": {}
      },
      "source": [
        "cluster_results = kmeans_cluster(vehicle_clusters, 8)\n",
        "cluster_summary = summarize_clustering(cluster_results)"
      ],
      "execution_count": 0,
      "outputs": []
    },
    {
      "cell_type": "code",
      "metadata": {
        "id": "lsK_WK5aecV6",
        "colab_type": "code",
        "outputId": "4481ab98-5f77-4a03-c88b-536e0b787bcd",
        "colab": {
          "base_uri": "https://localhost:8080/",
          "height": 297
        }
      },
      "source": [
        "cluster_summary"
      ],
      "execution_count": 0,
      "outputs": [
        {
          "output_type": "execute_result",
          "data": {
            "text/html": [
              "<div>\n",
              "<style scoped>\n",
              "    .dataframe tbody tr th:only-of-type {\n",
              "        vertical-align: middle;\n",
              "    }\n",
              "\n",
              "    .dataframe tbody tr th {\n",
              "        vertical-align: top;\n",
              "    }\n",
              "\n",
              "    .dataframe thead th {\n",
              "        text-align: right;\n",
              "    }\n",
              "</style>\n",
              "<table border=\"1\" class=\"dataframe\">\n",
              "  <thead>\n",
              "    <tr style=\"text-align: right;\">\n",
              "      <th></th>\n",
              "      <th>Cluster</th>\n",
              "      <th>Count</th>\n",
              "      <th>Engine Displacement</th>\n",
              "      <th>Cylinders</th>\n",
              "      <th>Fuel Barrels/Year</th>\n",
              "      <th>City MPG</th>\n",
              "      <th>Highway MPG</th>\n",
              "      <th>Combined MPG</th>\n",
              "      <th>CO2 Emission Grams/Mile</th>\n",
              "      <th>Fuel Cost/Year</th>\n",
              "    </tr>\n",
              "  </thead>\n",
              "  <tbody>\n",
              "    <tr>\n",
              "      <th>0</th>\n",
              "      <td>0</td>\n",
              "      <td>7704</td>\n",
              "      <td>0.382627</td>\n",
              "      <td>0.374854</td>\n",
              "      <td>0.353653</td>\n",
              "      <td>0.297454</td>\n",
              "      <td>0.405367</td>\n",
              "      <td>0.355896</td>\n",
              "      <td>0.353625</td>\n",
              "      <td>0.314951</td>\n",
              "    </tr>\n",
              "    <tr>\n",
              "      <th>1</th>\n",
              "      <td>1</td>\n",
              "      <td>4780</td>\n",
              "      <td>0.447330</td>\n",
              "      <td>0.373392</td>\n",
              "      <td>0.437782</td>\n",
              "      <td>0.249578</td>\n",
              "      <td>0.310182</td>\n",
              "      <td>0.287242</td>\n",
              "      <td>0.437757</td>\n",
              "      <td>0.371065</td>\n",
              "    </tr>\n",
              "    <tr>\n",
              "      <th>2</th>\n",
              "      <td>2</td>\n",
              "      <td>1716</td>\n",
              "      <td>0.682005</td>\n",
              "      <td>0.570950</td>\n",
              "      <td>0.601364</td>\n",
              "      <td>0.178472</td>\n",
              "      <td>0.234963</td>\n",
              "      <td>0.210290</td>\n",
              "      <td>0.601190</td>\n",
              "      <td>0.544153</td>\n",
              "    </tr>\n",
              "    <tr>\n",
              "      <th>3</th>\n",
              "      <td>3</td>\n",
              "      <td>6334</td>\n",
              "      <td>0.241518</td>\n",
              "      <td>0.254243</td>\n",
              "      <td>0.281230</td>\n",
              "      <td>0.383366</td>\n",
              "      <td>0.487341</td>\n",
              "      <td>0.447303</td>\n",
              "      <td>0.281191</td>\n",
              "      <td>0.240410</td>\n",
              "    </tr>\n",
              "    <tr>\n",
              "      <th>4</th>\n",
              "      <td>4</td>\n",
              "      <td>5838</td>\n",
              "      <td>0.267466</td>\n",
              "      <td>0.253950</td>\n",
              "      <td>0.346015</td>\n",
              "      <td>0.314615</td>\n",
              "      <td>0.392238</td>\n",
              "      <td>0.363536</td>\n",
              "      <td>0.345953</td>\n",
              "      <td>0.298589</td>\n",
              "    </tr>\n",
              "    <tr>\n",
              "      <th>5</th>\n",
              "      <td>5</td>\n",
              "      <td>1826</td>\n",
              "      <td>0.200601</td>\n",
              "      <td>0.244660</td>\n",
              "      <td>0.215546</td>\n",
              "      <td>0.518356</td>\n",
              "      <td>0.616882</td>\n",
              "      <td>0.587946</td>\n",
              "      <td>0.216954</td>\n",
              "      <td>0.183282</td>\n",
              "    </tr>\n",
              "    <tr>\n",
              "      <th>6</th>\n",
              "      <td>6</td>\n",
              "      <td>2914</td>\n",
              "      <td>0.595544</td>\n",
              "      <td>0.500214</td>\n",
              "      <td>0.395693</td>\n",
              "      <td>0.262833</td>\n",
              "      <td>0.360881</td>\n",
              "      <td>0.315656</td>\n",
              "      <td>0.400243</td>\n",
              "      <td>0.364243</td>\n",
              "    </tr>\n",
              "    <tr>\n",
              "      <th>7</th>\n",
              "      <td>7</td>\n",
              "      <td>3983</td>\n",
              "      <td>0.632127</td>\n",
              "      <td>0.501946</td>\n",
              "      <td>0.495468</td>\n",
              "      <td>0.218298</td>\n",
              "      <td>0.281866</td>\n",
              "      <td>0.255416</td>\n",
              "      <td>0.495648</td>\n",
              "      <td>0.422877</td>\n",
              "    </tr>\n",
              "  </tbody>\n",
              "</table>\n",
              "</div>"
            ],
            "text/plain": [
              "   Cluster  Count  ...  CO2 Emission Grams/Mile  Fuel Cost/Year\n",
              "0        0   7704  ...                 0.353625        0.314951\n",
              "1        1   4780  ...                 0.437757        0.371065\n",
              "2        2   1716  ...                 0.601190        0.544153\n",
              "3        3   6334  ...                 0.281191        0.240410\n",
              "4        4   5838  ...                 0.345953        0.298589\n",
              "5        5   1826  ...                 0.216954        0.183282\n",
              "6        6   2914  ...                 0.400243        0.364243\n",
              "7        7   3983  ...                 0.495648        0.422877\n",
              "\n",
              "[8 rows x 10 columns]"
            ]
          },
          "metadata": {
            "tags": []
          },
          "execution_count": 36
        }
      ]
    },
    {
      "cell_type": "markdown",
      "metadata": {
        "id": "8L7SgwD_VVP8",
        "colab_type": "text"
      },
      "source": [
        "##Langkah 3 - Data Visualization\n",
        "Untuk membantu kita dalam memahami hasil clustering, kita dapat memvisualisasikan hasil tersebut, misal menggunakan heatmap. Heatmap adalah sebuah peta yang menggambarkan persebaran lokasi dan frekuensi data dalam dengan pewarnaan.\n",
        "\n",
        "Dalam hal ini, semakin pekat warnanya maka semakin tinggi nilainya. Untuk menggunakan visualisasi heatmap kita membutuhkan library matplotlib dan seaborn."
      ]
    },
    {
      "cell_type": "code",
      "metadata": {
        "id": "TCVYDozMfsOg",
        "colab_type": "code",
        "colab": {}
      },
      "source": [
        "import matplotlib.pyplot as plt\n",
        "import seaborn as sns"
      ],
      "execution_count": 0,
      "outputs": []
    },
    {
      "cell_type": "code",
      "metadata": {
        "id": "Rk1kceVFh_8L",
        "colab_type": "code",
        "outputId": "0cf30f5b-9daf-4110-e0a5-927ed9e769b0",
        "colab": {
          "base_uri": "https://localhost:8080/",
          "height": 282
        }
      },
      "source": [
        "sns.heatmap(cluster_summary[cluster_columns].transpose(), cmap=\"Reds\", annot=True)"
      ],
      "execution_count": 0,
      "outputs": [
        {
          "output_type": "execute_result",
          "data": {
            "text/plain": [
              "<matplotlib.axes._subplots.AxesSubplot at 0x7fa0b4657240>"
            ]
          },
          "metadata": {
            "tags": []
          },
          "execution_count": 44
        },
        {
          "output_type": "display_data",
          "data": {
            "image/png": "[encoded data removed]",
            "text/plain": [
              "<Figure size 432x288 with 2 Axes>"
            ]
          },
          "metadata": {
            "tags": []
          }
        }
      ]
    },
    {
      "cell_type": "markdown",
      "metadata": {
        "id": "SV3cDhMKV2Wg",
        "colab_type": "text"
      },
      "source": [
        "Apakah yang dapat Anda analisis dari visualisasi di atas? Jika kesulitan dalam menganalisis mari kita clustering data ke jumlah yang lebih sedikit, misal 4 cluster."
      ]
    },
    {
      "cell_type": "code",
      "metadata": {
        "id": "-sgTtiy8mH8j",
        "colab_type": "code",
        "outputId": "6157ce43-f15a-460c-c8dd-aed748658fab",
        "colab": {
          "base_uri": "https://localhost:8080/",
          "height": 282
        }
      },
      "source": [
        "cluster_results = kmeans_cluster(vehicle_clusters, 4)\n",
        "cluster_summary = summarize_clustering(cluster_results)\n",
        "\n",
        "sns.heatmap(cluster_summary[cluster_columns].transpose(), cmap=\"Reds\", annot=True)"
      ],
      "execution_count": 0,
      "outputs": [
        {
          "output_type": "execute_result",
          "data": {
            "text/plain": [
              "<matplotlib.axes._subplots.AxesSubplot at 0x7fa0b413acf8>"
            ]
          },
          "metadata": {
            "tags": []
          },
          "execution_count": 52
        },
        {
          "output_type": "display_data",
          "data": {
            "image/png": "[encoded data removed]",
            "text/plain": [
              "<Figure size 432x288 with 2 Axes>"
            ]
          },
          "metadata": {
            "tags": []
          }
        }
      ]
    },
    {
      "cell_type": "markdown",
      "metadata": {
        "id": "kIYlttrAXGp-",
        "colab_type": "text"
      },
      "source": [
        "##Langkah 4 - Data Interpretation"
      ]
    },
    {
      "cell_type": "markdown",
      "metadata": {
        "id": "psuXVNzDoCQY",
        "colab_type": "text"
      },
      "source": [
        "Untuk memahami hasil clustering, mari kita tambahkan deskripsi terkait dengan karakteristik yang dimiliki oleh tiap cluster. Dalam hal ini yang perlu kita perhatikan adalah nilai rata-rata yang terkandung dalam tiap kolom. Selanjutnya kita juga bisa memberikan label untuk memudahkan penjelasan deskripsi cluster tersebut.\n",
        "\n",
        "*   **Cluster 3**: merupakan kumpulan kendaraan yang memiliki mesin berukuran besar (engine displacement dan cylinders tertinggi), membutuhkan banyak bahan bakar (fuel barrel/year), namun bekerja dengan tidak efisien (City, Highway, dan Combined MPG yang rendah) dan membutuhkan biaya yang besar dalam pengoperasiannya (Fuel Cost/Year yang cukup tinggi). Sehingga cluster ini dapat diberi label sebagai kelompok kendaraan yang ***Sangat Tidak Efisien***.\n",
        "*   **Cluster 2**: merupakan kelompok kendaraan yang memiliki mesin kecil, hemat bahan bakar yang tidak menghasilkan banyak emisi dan relatif tidak mahal untuk diisi. Sehingga cluster dapat diberi label sebagai cluster yang ***Sangat Efisien***. \n",
        "*   Cluster 1: merupakan kumpulan kendaraan yang memiliki mesin besar tetapi lebih efisien daripada kendaraan di Cluster 3. Sehingga cluster ini dapat diberi label sebagai ***Cukup Tidak Efisien***.\n",
        "*   Cluster 0: merupakan kumpulan kendaraan yang cukup seimbang untuk tiap atribut sehingga bisa diberi label sebagai cluster yang ***Cukup Efisien***.\n"
      ]
    },
    {
      "cell_type": "markdown",
      "metadata": {
        "id": "lohGby0kxyOf",
        "colab_type": "text"
      },
      "source": [
        "#Referensi\n",
        "[1] Prasad Patil, https://towardsdatascience.com/exploratory-data-analysis-8fc1cb20fd15\n",
        "\n",
        "[2] District Data Labs, https://medium.com/district-data-labs/data-exploration-with-python-part-1-643fda933479"
      ]
    }
  ]
}